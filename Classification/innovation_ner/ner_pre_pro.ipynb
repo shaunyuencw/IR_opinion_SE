{
 "cells": [
  {
   "cell_type": "code",
   "execution_count": 1,
   "id": "59e6303c",
   "metadata": {
    "execution": {
     "iopub.execute_input": "2024-04-10T01:57:33.134487Z",
     "iopub.status.busy": "2024-04-10T01:57:33.134120Z",
     "iopub.status.idle": "2024-04-10T01:57:34.063403Z",
     "shell.execute_reply": "2024-04-10T01:57:34.062535Z",
     "shell.execute_reply.started": "2024-04-10T01:57:33.134457Z"
    }
   },
   "outputs": [],
   "source": [
    "import pandas as pd\n",
    "import numpy as np"
   ]
  },
  {
   "cell_type": "code",
   "execution_count": 3,
   "id": "17afd502",
   "metadata": {
    "execution": {
     "iopub.execute_input": "2024-04-10T01:57:47.292088Z",
     "iopub.status.busy": "2024-04-10T01:57:47.291683Z",
     "iopub.status.idle": "2024-04-10T01:57:47.665440Z",
     "shell.execute_reply": "2024-04-10T01:57:47.664190Z",
     "shell.execute_reply.started": "2024-04-10T01:57:47.292059Z"
    }
   },
   "outputs": [],
   "source": [
    "df = pd.read_csv('/kaggle/input/news-article/cleaned_file.csv',encoding='latin')"
   ]
  },
  {
   "cell_type": "code",
   "execution_count": 4,
   "id": "4ffa3a01",
   "metadata": {
    "execution": {
     "iopub.execute_input": "2024-04-10T01:57:48.908848Z",
     "iopub.status.busy": "2024-04-10T01:57:48.908449Z",
     "iopub.status.idle": "2024-04-10T01:57:48.930091Z",
     "shell.execute_reply": "2024-04-10T01:57:48.929337Z",
     "shell.execute_reply.started": "2024-04-10T01:57:48.908819Z"
    }
   },
   "outputs": [
    {
     "data": {
      "text/html": [
       "<div>\n",
       "<style scoped>\n",
       "    .dataframe tbody tr th:only-of-type {\n",
       "        vertical-align: middle;\n",
       "    }\n",
       "\n",
       "    .dataframe tbody tr th {\n",
       "        vertical-align: top;\n",
       "    }\n",
       "\n",
       "    .dataframe thead th {\n",
       "        text-align: right;\n",
       "    }\n",
       "</style>\n",
       "<table border=\"1\" class=\"dataframe\">\n",
       "  <thead>\n",
       "    <tr style=\"text-align: right;\">\n",
       "      <th></th>\n",
       "      <th>topic</th>\n",
       "      <th>title</th>\n",
       "      <th>source</th>\n",
       "      <th>article_link</th>\n",
       "      <th>article</th>\n",
       "      <th>sentiments</th>\n",
       "    </tr>\n",
       "  </thead>\n",
       "  <tbody>\n",
       "    <tr>\n",
       "      <th>0</th>\n",
       "      <td>Microsoft</td>\n",
       "      <td>The Top 7 Tech Stocks to Buy in March 2024</td>\n",
       "      <td>InvestorPlace</td>\n",
       "      <td>https://investorplace.com/2024/03/the-top-7-te...</td>\n",
       "      <td>Microsoft (MSFT) is still growing at a fast pa...</td>\n",
       "      <td>positive</td>\n",
       "    </tr>\n",
       "    <tr>\n",
       "      <th>1</th>\n",
       "      <td>Microsoft</td>\n",
       "      <td>Microsoft-owned LinkedIn makes this 'first-eve...</td>\n",
       "      <td>Times of India</td>\n",
       "      <td>https://timesofindia.indiatimes.com/gadgets-ne...</td>\n",
       "      <td>Microsoft-owned LinkedIn generated $1.7 billio...</td>\n",
       "      <td>positive</td>\n",
       "    </tr>\n",
       "    <tr>\n",
       "      <th>2</th>\n",
       "      <td>Microsoft</td>\n",
       "      <td>Microsoft debuts Copilot for finance pros</td>\n",
       "      <td>Computerworld</td>\n",
       "      <td>https://www.computerworld.com/article/3714142/...</td>\n",
       "      <td>Microsoft has launched a Copilot assistant for...</td>\n",
       "      <td>neutral</td>\n",
       "    </tr>\n",
       "    <tr>\n",
       "      <th>3</th>\n",
       "      <td>Microsoft</td>\n",
       "      <td>Microsoft's Path to Becoming the Largest Compa...</td>\n",
       "      <td>The Motley Fool</td>\n",
       "      <td>https://www.fool.com/investing/2024/03/06/micr...</td>\n",
       "      <td>Microsoft's Path to Becoming the Largest Compa...</td>\n",
       "      <td>positive</td>\n",
       "    </tr>\n",
       "    <tr>\n",
       "      <th>4</th>\n",
       "      <td>Microsoft</td>\n",
       "      <td>Top Analyst Brad Reback Weighs in on Microsoft...</td>\n",
       "      <td>Tipranks</td>\n",
       "      <td>https://www.tipranks.com/news/top-analyst-brad...</td>\n",
       "      <td>Non-deal roadshows (NDRs) allow institutional ...</td>\n",
       "      <td>positive</td>\n",
       "    </tr>\n",
       "    <tr>\n",
       "      <th>...</th>\n",
       "      <td>...</td>\n",
       "      <td>...</td>\n",
       "      <td>...</td>\n",
       "      <td>...</td>\n",
       "      <td>...</td>\n",
       "      <td>...</td>\n",
       "    </tr>\n",
       "    <tr>\n",
       "      <th>9264</th>\n",
       "      <td>OCBC</td>\n",
       "      <td>7 Things To Know About Oversea-Chinese Banking...</td>\n",
       "      <td>Value Invest Asia</td>\n",
       "      <td>https://valueinvestasia.com/7-things-oversea-c...</td>\n",
       "      <td>Oversea-Chinese Banking Corp. Limited (OCBC) (...</td>\n",
       "      <td>neutral</td>\n",
       "    </tr>\n",
       "    <tr>\n",
       "      <th>9265</th>\n",
       "      <td>OCBC</td>\n",
       "      <td>DBS, UOB Or OCBC: Which Singapore Bank Should ...</td>\n",
       "      <td>The Smart Investor</td>\n",
       "      <td>https://thesmartinvestor.com.sg/dbs-uob-or-ocb...</td>\n",
       "      <td>The earnings season is coming to a close, and ...</td>\n",
       "      <td>positive</td>\n",
       "    </tr>\n",
       "    <tr>\n",
       "      <th>9266</th>\n",
       "      <td>OCBC</td>\n",
       "      <td>MAS Lifts Dividend Cap on Singapore Banks: Wha...</td>\n",
       "      <td>Seedly</td>\n",
       "      <td>https://blog.seedly.sg/mas-singapore-banks-cap...</td>\n",
       "      <td>The Monetary Authority of Singapore (MAS) has ...</td>\n",
       "      <td>neutral</td>\n",
       "    </tr>\n",
       "    <tr>\n",
       "      <th>9267</th>\n",
       "      <td>OCBC</td>\n",
       "      <td>The Top 10 Most Influential Blue Chips in Sing...</td>\n",
       "      <td>The Smart Investor</td>\n",
       "      <td>https://thesmartinvestor.com.sg/the-top-10-mos...</td>\n",
       "      <td>The Straits Times Index (SGX: ^STI), or STI, i...</td>\n",
       "      <td>neutral</td>\n",
       "    </tr>\n",
       "    <tr>\n",
       "      <th>9268</th>\n",
       "      <td>OCBC</td>\n",
       "      <td>DBS, OCBC and UOB: Comparison of Their Scrip D...</td>\n",
       "      <td>Seedly</td>\n",
       "      <td>https://blog.seedly.sg/dbs-ocbc-and-uob-scrip-...</td>\n",
       "      <td>The three listed banks in Singapore - DBS Grou...</td>\n",
       "      <td>neutral</td>\n",
       "    </tr>\n",
       "  </tbody>\n",
       "</table>\n",
       "<p>9269 rows × 6 columns</p>\n",
       "</div>"
      ],
      "text/plain": [
       "          topic                                              title  \\\n",
       "0     Microsoft         The Top 7 Tech Stocks to Buy in March 2024   \n",
       "1     Microsoft  Microsoft-owned LinkedIn makes this 'first-eve...   \n",
       "2     Microsoft          Microsoft debuts Copilot for finance pros   \n",
       "3     Microsoft  Microsoft's Path to Becoming the Largest Compa...   \n",
       "4     Microsoft  Top Analyst Brad Reback Weighs in on Microsoft...   \n",
       "...         ...                                                ...   \n",
       "9264       OCBC  7 Things To Know About Oversea-Chinese Banking...   \n",
       "9265       OCBC  DBS, UOB Or OCBC: Which Singapore Bank Should ...   \n",
       "9266       OCBC  MAS Lifts Dividend Cap on Singapore Banks: Wha...   \n",
       "9267       OCBC  The Top 10 Most Influential Blue Chips in Sing...   \n",
       "9268       OCBC  DBS, OCBC and UOB: Comparison of Their Scrip D...   \n",
       "\n",
       "                  source                                       article_link  \\\n",
       "0          InvestorPlace  https://investorplace.com/2024/03/the-top-7-te...   \n",
       "1         Times of India  https://timesofindia.indiatimes.com/gadgets-ne...   \n",
       "2          Computerworld  https://www.computerworld.com/article/3714142/...   \n",
       "3        The Motley Fool  https://www.fool.com/investing/2024/03/06/micr...   \n",
       "4               Tipranks  https://www.tipranks.com/news/top-analyst-brad...   \n",
       "...                  ...                                                ...   \n",
       "9264   Value Invest Asia  https://valueinvestasia.com/7-things-oversea-c...   \n",
       "9265  The Smart Investor  https://thesmartinvestor.com.sg/dbs-uob-or-ocb...   \n",
       "9266              Seedly  https://blog.seedly.sg/mas-singapore-banks-cap...   \n",
       "9267  The Smart Investor  https://thesmartinvestor.com.sg/the-top-10-mos...   \n",
       "9268              Seedly  https://blog.seedly.sg/dbs-ocbc-and-uob-scrip-...   \n",
       "\n",
       "                                                article sentiments  \n",
       "0     Microsoft (MSFT) is still growing at a fast pa...   positive  \n",
       "1     Microsoft-owned LinkedIn generated $1.7 billio...   positive  \n",
       "2     Microsoft has launched a Copilot assistant for...    neutral  \n",
       "3     Microsoft's Path to Becoming the Largest Compa...   positive  \n",
       "4     Non-deal roadshows (NDRs) allow institutional ...   positive  \n",
       "...                                                 ...        ...  \n",
       "9264  Oversea-Chinese Banking Corp. Limited (OCBC) (...    neutral  \n",
       "9265  The earnings season is coming to a close, and ...   positive  \n",
       "9266  The Monetary Authority of Singapore (MAS) has ...    neutral  \n",
       "9267  The Straits Times Index (SGX: ^STI), or STI, i...    neutral  \n",
       "9268  The three listed banks in Singapore - DBS Grou...    neutral  \n",
       "\n",
       "[9269 rows x 6 columns]"
      ]
     },
     "execution_count": 4,
     "metadata": {},
     "output_type": "execute_result"
    }
   ],
   "source": [
    "df"
   ]
  },
  {
   "cell_type": "code",
   "execution_count": 5,
   "id": "0cfd9dbf",
   "metadata": {
    "execution": {
     "iopub.execute_input": "2024-04-10T01:57:49.458378Z",
     "iopub.status.busy": "2024-04-10T01:57:49.457321Z",
     "iopub.status.idle": "2024-04-10T01:57:49.465867Z",
     "shell.execute_reply": "2024-04-10T01:57:49.464801Z",
     "shell.execute_reply.started": "2024-04-10T01:57:49.458336Z"
    }
   },
   "outputs": [],
   "source": [
    "df['article'] = df['article'].astype(str)"
   ]
  },
  {
   "cell_type": "code",
   "execution_count": 7,
   "id": "b0c3b41d",
   "metadata": {
    "execution": {
     "iopub.execute_input": "2024-04-10T01:58:02.468211Z",
     "iopub.status.busy": "2024-04-10T01:58:02.467721Z",
     "iopub.status.idle": "2024-04-10T01:58:15.428170Z",
     "shell.execute_reply": "2024-04-10T01:58:15.427145Z",
     "shell.execute_reply.started": "2024-04-10T01:58:02.468172Z"
    }
   },
   "outputs": [
    {
     "name": "stdout",
     "output_type": "stream",
     "text": [
      "Collecting unidecode\n",
      "  Downloading Unidecode-1.3.8-py3-none-any.whl.metadata (13 kB)\n",
      "Downloading Unidecode-1.3.8-py3-none-any.whl (235 kB)\n",
      "\u001b[2K   \u001b[90m━━━━━━━━━━━━━━━━━━━━━━━━━━━━━━━━━━━━━━━━\u001b[0m \u001b[32m235.5/235.5 kB\u001b[0m \u001b[31m4.8 MB/s\u001b[0m eta \u001b[36m0:00:00\u001b[0ma \u001b[36m0:00:01\u001b[0m\n",
      "\u001b[?25hInstalling collected packages: unidecode\n",
      "Successfully installed unidecode-1.3.8\n"
     ]
    }
   ],
   "source": [
    "!pip install unidecode"
   ]
  },
  {
   "cell_type": "code",
   "execution_count": 8,
   "id": "38aace21",
   "metadata": {
    "execution": {
     "iopub.execute_input": "2024-04-10T01:58:15.430506Z",
     "iopub.status.busy": "2024-04-10T01:58:15.430159Z",
     "iopub.status.idle": "2024-04-10T01:58:15.439906Z",
     "shell.execute_reply": "2024-04-10T01:58:15.438948Z",
     "shell.execute_reply.started": "2024-04-10T01:58:15.430474Z"
    }
   },
   "outputs": [],
   "source": [
    "import unidecode\n",
    "def accented_characters_removal(text):\n",
    "    # this is a docstring\n",
    "    \"\"\"\n",
    "    The function will remove accented characters from the \n",
    "    text contained within the Dataset.\n",
    "       \n",
    "    arguments:\n",
    "        input_text: \"text\" of type \"String\". \n",
    "                    \n",
    "    return:\n",
    "        value: \"text\" with removed accented characters.\n",
    "        \n",
    "    Example:\n",
    "    Input : Málaga, àéêöhello\n",
    "    Output : Malaga, aeeohello    \n",
    "        \n",
    "    \"\"\"\n",
    "    # Remove accented characters from text using unidecode.\n",
    "    # Unidecode() - It takes unicode data & tries to represent it to ASCII characters. \n",
    "    text = unidecode.unidecode(text)\n",
    "    return text"
   ]
  },
  {
   "cell_type": "code",
   "execution_count": 9,
   "id": "e5440c48",
   "metadata": {
    "execution": {
     "iopub.execute_input": "2024-04-10T01:58:15.441971Z",
     "iopub.status.busy": "2024-04-10T01:58:15.441578Z",
     "iopub.status.idle": "2024-04-10T01:58:29.748855Z",
     "shell.execute_reply": "2024-04-10T01:58:29.747682Z",
     "shell.execute_reply.started": "2024-04-10T01:58:15.441935Z"
    }
   },
   "outputs": [
    {
     "name": "stdout",
     "output_type": "stream",
     "text": [
      "Collecting autocorrect\n",
      "  Downloading autocorrect-2.6.1.tar.gz (622 kB)\n",
      "\u001b[2K     \u001b[90m━━━━━━━━━━━━━━━━━━━━━━━━━━━━━━━━━━━━━━━\u001b[0m \u001b[32m622.8/622.8 kB\u001b[0m \u001b[31m8.5 MB/s\u001b[0m eta \u001b[36m0:00:00\u001b[0m00:01\u001b[0m00:01\u001b[0m\n",
      "\u001b[?25h  Preparing metadata (setup.py) ... \u001b[?25ldone\n",
      "\u001b[?25hBuilding wheels for collected packages: autocorrect\n",
      "  Building wheel for autocorrect (setup.py) ... \u001b[?25ldone\n",
      "\u001b[?25h  Created wheel for autocorrect: filename=autocorrect-2.6.1-py3-none-any.whl size=622364 sha256=156d902250a47c80e348f83092b913a571d620a0a11874eb4dd8b32f0b046f37\n",
      "  Stored in directory: /root/.cache/pip/wheels/b5/7b/6d/b76b29ce11ff8e2521c8c7dd0e5bfee4fb1789d76193124343\n",
      "Successfully built autocorrect\n",
      "Installing collected packages: autocorrect\n",
      "Successfully installed autocorrect-2.6.1\n"
     ]
    }
   ],
   "source": [
    "!pip install autocorrect"
   ]
  },
  {
   "cell_type": "code",
   "execution_count": 10,
   "id": "da336cfa",
   "metadata": {
    "execution": {
     "iopub.execute_input": "2024-04-10T01:58:29.754017Z",
     "iopub.status.busy": "2024-04-10T01:58:29.753671Z",
     "iopub.status.idle": "2024-04-10T01:58:29.763263Z",
     "shell.execute_reply": "2024-04-10T01:58:29.762325Z",
     "shell.execute_reply.started": "2024-04-10T01:58:29.753983Z"
    }
   },
   "outputs": [],
   "source": [
    "from autocorrect import Speller"
   ]
  },
  {
   "cell_type": "code",
   "execution_count": 11,
   "id": "e6c60c5e",
   "metadata": {
    "execution": {
     "iopub.execute_input": "2024-04-10T01:58:29.765047Z",
     "iopub.status.busy": "2024-04-10T01:58:29.764404Z",
     "iopub.status.idle": "2024-04-10T01:58:29.772308Z",
     "shell.execute_reply": "2024-04-10T01:58:29.771535Z",
     "shell.execute_reply.started": "2024-04-10T01:58:29.765010Z"
    }
   },
   "outputs": [],
   "source": [
    "def spelling_correction(text):\n",
    "    ''' \n",
    "    This function will correct spellings.\n",
    "    \n",
    "    arguments:\n",
    "         input_text: \"text\" of type \"String\".\n",
    "         \n",
    "    return:\n",
    "        value: Text after corrected spellings.\n",
    "        \n",
    "    Example: \n",
    "    Input : This is Oberois from Dlhi who came heree to studdy.\n",
    "    Output : This is Oberoi from Delhi who came here to study.\n",
    "      \n",
    "    \n",
    "    '''\n",
    "    # Check for spellings in English language\n",
    "    spell = Speller(lang='en')\n",
    "    Corrected_text = spell(text)\n",
    "    return Corrected_text"
   ]
  },
  {
   "cell_type": "code",
   "execution_count": 12,
   "id": "7f4e8137",
   "metadata": {
    "execution": {
     "iopub.execute_input": "2024-04-10T01:58:29.773975Z",
     "iopub.status.busy": "2024-04-10T01:58:29.773192Z",
     "iopub.status.idle": "2024-04-10T01:58:29.782179Z",
     "shell.execute_reply": "2024-04-10T01:58:29.781405Z",
     "shell.execute_reply.started": "2024-04-10T01:58:29.773947Z"
    }
   },
   "outputs": [],
   "source": [
    "def clean_ascii(text):\n",
    "        # function to remove non-ASCII chars from data\n",
    "        return ''.join(i for i in text if ord(i) < 128)"
   ]
  },
  {
   "cell_type": "code",
   "execution_count": 13,
   "id": "55ebb9cd",
   "metadata": {
    "execution": {
     "iopub.execute_input": "2024-04-10T01:58:29.783430Z",
     "iopub.status.busy": "2024-04-10T01:58:29.783112Z",
     "iopub.status.idle": "2024-04-10T01:58:29.789445Z",
     "shell.execute_reply": "2024-04-10T01:58:29.788597Z",
     "shell.execute_reply.started": "2024-04-10T01:58:29.783379Z"
    }
   },
   "outputs": [],
   "source": [
    "import re\n",
    "# function to remove numbers\n",
    "def remove_numbers(text):\n",
    "    # define the pattern to keep\n",
    "    pattern = r'[^a-zA-z.,!?:;\\\"\\'\\s]' \n",
    "    return re.sub(pattern, '', text)"
   ]
  },
  {
   "cell_type": "code",
   "execution_count": 15,
   "id": "a0948057",
   "metadata": {
    "execution": {
     "iopub.execute_input": "2024-04-10T01:59:53.650599Z",
     "iopub.status.busy": "2024-04-10T01:59:53.649922Z",
     "iopub.status.idle": "2024-04-10T02:00:06.811126Z",
     "shell.execute_reply": "2024-04-10T02:00:06.809806Z",
     "shell.execute_reply.started": "2024-04-10T01:59:53.650568Z"
    }
   },
   "outputs": [
    {
     "name": "stdout",
     "output_type": "stream",
     "text": [
      "Collecting contractions\n",
      "  Downloading contractions-0.1.73-py2.py3-none-any.whl.metadata (1.2 kB)\n",
      "Collecting textsearch>=0.0.21 (from contractions)\n",
      "  Downloading textsearch-0.0.24-py2.py3-none-any.whl.metadata (1.2 kB)\n",
      "Collecting anyascii (from textsearch>=0.0.21->contractions)\n",
      "  Downloading anyascii-0.3.2-py3-none-any.whl.metadata (1.5 kB)\n",
      "Collecting pyahocorasick (from textsearch>=0.0.21->contractions)\n",
      "  Downloading pyahocorasick-2.1.0-cp310-cp310-manylinux_2_5_x86_64.manylinux1_x86_64.manylinux_2_12_x86_64.manylinux2010_x86_64.whl.metadata (13 kB)\n",
      "Downloading contractions-0.1.73-py2.py3-none-any.whl (8.7 kB)\n",
      "Downloading textsearch-0.0.24-py2.py3-none-any.whl (7.6 kB)\n",
      "Downloading anyascii-0.3.2-py3-none-any.whl (289 kB)\n",
      "\u001b[2K   \u001b[90m━━━━━━━━━━━━━━━━━━━━━━━━━━━━━━━━━━━━━━━━\u001b[0m \u001b[32m289.9/289.9 kB\u001b[0m \u001b[31m4.8 MB/s\u001b[0m eta \u001b[36m0:00:00\u001b[0ma \u001b[36m0:00:01\u001b[0m\n",
      "\u001b[?25hDownloading pyahocorasick-2.1.0-cp310-cp310-manylinux_2_5_x86_64.manylinux1_x86_64.manylinux_2_12_x86_64.manylinux2010_x86_64.whl (110 kB)\n",
      "\u001b[2K   \u001b[90m━━━━━━━━━━━━━━━━━━━━━━━━━━━━━━━━━━━━━━━━\u001b[0m \u001b[32m110.7/110.7 kB\u001b[0m \u001b[31m8.9 MB/s\u001b[0m eta \u001b[36m0:00:00\u001b[0m\n",
      "\u001b[?25hInstalling collected packages: pyahocorasick, anyascii, textsearch, contractions\n",
      "Successfully installed anyascii-0.3.2 contractions-0.1.73 pyahocorasick-2.1.0 textsearch-0.0.24\n"
     ]
    }
   ],
   "source": [
    "!pip install contractions"
   ]
  },
  {
   "cell_type": "code",
   "execution_count": 16,
   "id": "283b0b2c",
   "metadata": {
    "execution": {
     "iopub.execute_input": "2024-04-10T02:00:06.813953Z",
     "iopub.status.busy": "2024-04-10T02:00:06.813626Z",
     "iopub.status.idle": "2024-04-10T02:00:06.833292Z",
     "shell.execute_reply": "2024-04-10T02:00:06.832465Z",
     "shell.execute_reply.started": "2024-04-10T02:00:06.813921Z"
    }
   },
   "outputs": [],
   "source": [
    "import contractions\n",
    "def expand_contractions(text):\n",
    "  return contractions.fix(text)"
   ]
  },
  {
   "cell_type": "code",
   "execution_count": 17,
   "id": "385ed736",
   "metadata": {
    "execution": {
     "iopub.execute_input": "2024-04-10T02:00:06.834816Z",
     "iopub.status.busy": "2024-04-10T02:00:06.834381Z",
     "iopub.status.idle": "2024-04-10T02:00:12.321525Z",
     "shell.execute_reply": "2024-04-10T02:00:12.320463Z",
     "shell.execute_reply.started": "2024-04-10T02:00:06.834780Z"
    }
   },
   "outputs": [],
   "source": [
    "import spacy\n",
    "nlp = spacy.load(\"en_core_web_sm\")\n",
    "def remove_named_entities(text,nlp):\n",
    "    # Load the spaCy model\n",
    "    #nlp = spacy.load(\"en_core_web_sm\")\n",
    "    \n",
    "    # Process the text\n",
    "    text_data  = text\n",
    "    doc = nlp(text)\n",
    "    remove_labels=['PERSON', 'ORG', 'GPE', 'LOC','FAC','DATE','TIME']\n",
    "    ents = [(e.start_char,e.end_char)  for e in doc.ents if e.label_ in remove_labels]\n",
    "    name = [e.text for e in doc.ents if e.label_ in remove_labels]\n",
    "    for ent in ents:\n",
    "        start_char, end_char = ent\n",
    "        #print(ent)\n",
    "        text_data = text_data[:start_char] + text_data[end_char:]  \n",
    "    return text_data, name\n",
    "    "
   ]
  },
  {
   "cell_type": "code",
   "execution_count": 18,
   "id": "d03fc1ad",
   "metadata": {
    "execution": {
     "iopub.execute_input": "2024-04-10T02:00:12.325962Z",
     "iopub.status.busy": "2024-04-10T02:00:12.325010Z",
     "iopub.status.idle": "2024-04-10T02:00:14.185063Z",
     "shell.execute_reply": "2024-04-10T02:00:14.183956Z",
     "shell.execute_reply.started": "2024-04-10T02:00:12.325922Z"
    }
   },
   "outputs": [],
   "source": [
    "from nltk.stem import PorterStemmer\n",
    "from nltk.tokenize import word_tokenize\n",
    "ps = PorterStemmer()\n",
    "def preprocessing(text):\n",
    "    #text = accented_characters_removal(text)\n",
    "    entities  = []\n",
    "    text,entities = remove_named_entities(text,nlp)\n",
    "    #text = spelling_correction(text)\n",
    "    #text = clean_ascii(text)\n",
    "    text = remove_numbers(text)\n",
    "    text = expand_contractions(text)\n",
    "    words = word_tokenize(text)\n",
    "    stemmed_words = [ps.stem(word) for word in words]\n",
    "    stemmed_sentence = ' '.join(stemmed_words)\n",
    "    return [stemmed_sentence,entities]"
   ]
  },
  {
   "cell_type": "code",
   "execution_count": 19,
   "id": "0f99a28d",
   "metadata": {
    "execution": {
     "iopub.execute_input": "2024-04-10T02:00:14.186887Z",
     "iopub.status.busy": "2024-04-10T02:00:14.186434Z",
     "iopub.status.idle": "2024-04-10T02:00:14.283937Z",
     "shell.execute_reply": "2024-04-10T02:00:14.282909Z",
     "shell.execute_reply.started": "2024-04-10T02:00:14.186851Z"
    }
   },
   "outputs": [
    {
     "name": "stdout",
     "output_type": "stream",
     "text": [
      "[\"own linkedin d . billion in from it pre subscript servic . the servic offer AI tool for job seek and user at .month . the number of premium subscrib increas by . due to econom uncertainti , individu are take step to ensur they have the best possibl opportun to secur their desir job . linkedin ha disclos gure for it premium subscript servic for the first time . the compani 's AI tool includ the abil tonalyz job post and suggest suitabl base on a user 's resum , assist with profil optim for recruit , and automat gener messag for job applic . last year , linkedin laid off aroupeopl in ts . the compani is also focus on expand it premium subscript servic . addit note : the text ha been clean up by remov nonarticl element , such as advertis , disclaim , and promot content . the text ha been preserv as close as possibl to the origin articl , while maintain the origin structur and word . the text ha not been rephras or simplifi . the text ha been kept concis and to the point .\", ['Microsoft', 'LinkedIn', '2023', 'AI', 'LinkedIn', 'AI', 'Last year', 'LinkedIn']]\n"
     ]
    }
   ],
   "source": [
    "print(preprocessing(\"Microsoft-owned LinkedIn generated $1.7 billion in 2023 from its premium subscription service. The service offers AI tools for job seekers and users at $39.99/month. The number of premium subscribers increased by 25%. Due to economic uncertainty, individuals are taking steps to ensure they have the best possible opportunities to secure their desired jobs. LinkedIn has disclosed sales figures for its premium subscription service for the first time. The company's AI tools include the ability to analyze job postings and suggest suitability based on a user's resume, assist with profile optimization for recruiters, and automatically generate messages for job applications. Last year, LinkedIn laid off around 1,400 people in two rounds. The company is also focused on expanding its premium subscription service. Additional Notes: The text has been cleaned up by removing non-article elements, such as advertisements, disclaimers, and promotional content. The text has been preserved as closely as possible to the original article, while maintaining the original structure and wording. The text has not been rephrased or simplified. The text has been kept concise and to the point.\"))"
   ]
  },
  {
   "cell_type": "code",
   "execution_count": 20,
   "id": "1e53899e",
   "metadata": {
    "execution": {
     "iopub.execute_input": "2024-04-10T02:00:14.285587Z",
     "iopub.status.busy": "2024-04-10T02:00:14.285240Z",
     "iopub.status.idle": "2024-04-10T02:00:14.292427Z",
     "shell.execute_reply": "2024-04-10T02:00:14.291372Z",
     "shell.execute_reply.started": "2024-04-10T02:00:14.285537Z"
    }
   },
   "outputs": [],
   "source": [
    "test_data = {\n",
    "    'article': ['January', 'February', 'March', 'April', 'May', 'June'],\n",
    "    'Portfolio_Returns': [0.02, -0.01, 0.03, 0.04, -0.02, 0.01],\n",
    "    'Market_Returns': [0.01, 0.02, 0.01, -0.03, 0.04, 0.02],\n",
    "}\n",
    "\n",
    "# Create the DataFrame\n",
    "test_df = pd.DataFrame(test_data)"
   ]
  },
  {
   "cell_type": "code",
   "execution_count": 21,
   "id": "155b2d94",
   "metadata": {
    "execution": {
     "iopub.execute_input": "2024-04-10T02:00:14.294756Z",
     "iopub.status.busy": "2024-04-10T02:00:14.293857Z",
     "iopub.status.idle": "2024-04-10T02:00:14.757663Z",
     "shell.execute_reply": "2024-04-10T02:00:14.756620Z",
     "shell.execute_reply.started": "2024-04-10T02:00:14.294713Z"
    }
   },
   "outputs": [
    {
     "name": "stderr",
     "output_type": "stream",
     "text": [
      "100%|██████████| 10/10 [00:00<00:00, 22.39it/s]\n",
      "/tmp/ipykernel_33/545685808.py:6: SettingWithCopyWarning: \n",
      "A value is trying to be set on a copy of a slice from a DataFrame.\n",
      "Try using .loc[row_indexer,col_indexer] = value instead\n",
      "\n",
      "See the caveats in the documentation: https://pandas.pydata.org/pandas-docs/stable/user_guide/indexing.html#returning-a-view-versus-a-copy\n",
      "  test_df[\"add\"], test_df[\"sub\"] = zip(*test_df['article'].progress_apply(preprocessing))\n",
      "/tmp/ipykernel_33/545685808.py:6: SettingWithCopyWarning: \n",
      "A value is trying to be set on a copy of a slice from a DataFrame.\n",
      "Try using .loc[row_indexer,col_indexer] = value instead\n",
      "\n",
      "See the caveats in the documentation: https://pandas.pydata.org/pandas-docs/stable/user_guide/indexing.html#returning-a-view-versus-a-copy\n",
      "  test_df[\"add\"], test_df[\"sub\"] = zip(*test_df['article'].progress_apply(preprocessing))\n"
     ]
    }
   ],
   "source": [
    "from tqdm import tqdm\n",
    "tqdm.pandas()\n",
    "test_df = df.head(10)\n",
    "\n",
    "#test_df['unnamed_cleaned_articles','named_entities'] = test_df['article'].progress_apply(preprocessing)\n",
    "test_df[\"add\"], test_df[\"sub\"] = zip(*test_df['article'].progress_apply(preprocessing))"
   ]
  },
  {
   "cell_type": "code",
   "execution_count": 22,
   "id": "8112e3e2",
   "metadata": {
    "execution": {
     "iopub.execute_input": "2024-04-10T02:00:14.759508Z",
     "iopub.status.busy": "2024-04-10T02:00:14.759108Z",
     "iopub.status.idle": "2024-04-10T02:00:14.779624Z",
     "shell.execute_reply": "2024-04-10T02:00:14.778467Z",
     "shell.execute_reply.started": "2024-04-10T02:00:14.759474Z"
    }
   },
   "outputs": [
    {
     "data": {
      "text/html": [
       "<div>\n",
       "<style scoped>\n",
       "    .dataframe tbody tr th:only-of-type {\n",
       "        vertical-align: middle;\n",
       "    }\n",
       "\n",
       "    .dataframe tbody tr th {\n",
       "        vertical-align: top;\n",
       "    }\n",
       "\n",
       "    .dataframe thead th {\n",
       "        text-align: right;\n",
       "    }\n",
       "</style>\n",
       "<table border=\"1\" class=\"dataframe\">\n",
       "  <thead>\n",
       "    <tr style=\"text-align: right;\">\n",
       "      <th></th>\n",
       "      <th>topic</th>\n",
       "      <th>title</th>\n",
       "      <th>source</th>\n",
       "      <th>article_link</th>\n",
       "      <th>article</th>\n",
       "      <th>sentiments</th>\n",
       "      <th>add</th>\n",
       "      <th>sub</th>\n",
       "    </tr>\n",
       "  </thead>\n",
       "  <tbody>\n",
       "    <tr>\n",
       "      <th>0</th>\n",
       "      <td>Microsoft</td>\n",
       "      <td>The Top 7 Tech Stocks to Buy in March 2024</td>\n",
       "      <td>InvestorPlace</td>\n",
       "      <td>https://investorplace.com/2024/03/the-top-7-te...</td>\n",
       "      <td>Microsoft (MSFT) is still growing at a fast pa...</td>\n",
       "      <td>positive</td>\n",
       "      <td>msft is l grow at a fast pace , and AI initiat...</td>\n",
       "      <td>[Microsoft, MSFT, AI, Duolingo, DUOL, Alphabet...</td>\n",
       "    </tr>\n",
       "    <tr>\n",
       "      <th>1</th>\n",
       "      <td>Microsoft</td>\n",
       "      <td>Microsoft-owned LinkedIn makes this 'first-eve...</td>\n",
       "      <td>Times of India</td>\n",
       "      <td>https://timesofindia.indiatimes.com/gadgets-ne...</td>\n",
       "      <td>Microsoft-owned LinkedIn generated $1.7 billio...</td>\n",
       "      <td>positive</td>\n",
       "      <td>own linkedin d . billion in from it pre subscr...</td>\n",
       "      <td>[Microsoft, LinkedIn, 2023, AI, LinkedIn, AI, ...</td>\n",
       "    </tr>\n",
       "    <tr>\n",
       "      <th>2</th>\n",
       "      <td>Microsoft</td>\n",
       "      <td>Microsoft debuts Copilot for finance pros</td>\n",
       "      <td>Computerworld</td>\n",
       "      <td>https://www.computerworld.com/article/3714142/...</td>\n",
       "      <td>Microsoft has launched a Copilot assistant for...</td>\n",
       "      <td>neutral</td>\n",
       "      <td>ha launch a copilot at for financ profession t...</td>\n",
       "      <td>[Microsoft, Copilot, The Copilot for Finance, ...</td>\n",
       "    </tr>\n",
       "    <tr>\n",
       "      <th>3</th>\n",
       "      <td>Microsoft</td>\n",
       "      <td>Microsoft's Path to Becoming the Largest Compa...</td>\n",
       "      <td>The Motley Fool</td>\n",
       "      <td>https://www.fool.com/investing/2024/03/06/micr...</td>\n",
       "      <td>Microsoft's Path to Becoming the Largest Compa...</td>\n",
       "      <td>positive</td>\n",
       "      <td>'s path to becom the largest compani in the wo...</td>\n",
       "      <td>[Microsoft, Explained, Intelligent Cloud, Saty...</td>\n",
       "    </tr>\n",
       "    <tr>\n",
       "      <th>4</th>\n",
       "      <td>Microsoft</td>\n",
       "      <td>Top Analyst Brad Reback Weighs in on Microsoft...</td>\n",
       "      <td>Tipranks</td>\n",
       "      <td>https://www.tipranks.com/news/top-analyst-brad...</td>\n",
       "      <td>Non-deal roadshows (NDRs) allow institutional ...</td>\n",
       "      <td>positive</td>\n",
       "      <td>nondeal roadshow ndr allow institut investor t...</td>\n",
       "      <td>[Last week, Stifel, Brad Reback, Microsoft, NA...</td>\n",
       "    </tr>\n",
       "    <tr>\n",
       "      <th>5</th>\n",
       "      <td>Microsoft</td>\n",
       "      <td>Microsoft employee: AI tool should be removed ...</td>\n",
       "      <td>CNN</td>\n",
       "      <td>https://www.cnn.com/2024/03/06/tech/microsoft-...</td>\n",
       "      <td>The engineer's letter to the FTC comes as conc...</td>\n",
       "      <td>negative</td>\n",
       "      <td>the engin 's letter to the come as concern gro...</td>\n",
       "      <td>[FTC, AI, Microsoft, AI, Copilot Designer, 202...</td>\n",
       "    </tr>\n",
       "    <tr>\n",
       "      <th>6</th>\n",
       "      <td>Microsoft</td>\n",
       "      <td>Microsoft derides 'doomsday futurology' of New...</td>\n",
       "      <td>Financial Times</td>\n",
       "      <td>https://www.ft.com/content/1cc0c759-946c-41c8-...</td>\n",
       "      <td>Microsoft derides 'doomsday futurology' of New...</td>\n",
       "      <td>negative</td>\n",
       "      <td>derid 'doomsday futurolog ' of new york it . t...</td>\n",
       "      <td>[Microsoft, New York Times', Microsoft, the Ne...</td>\n",
       "    </tr>\n",
       "    <tr>\n",
       "      <th>7</th>\n",
       "      <td>Microsoft</td>\n",
       "      <td>Microsoft Engineer Says Company's AI Ignores C...</td>\n",
       "      <td>PetaPixel</td>\n",
       "      <td>https://petapixel.com/2024/03/07/microsoft-eng...</td>\n",
       "      <td>Shane Jones, a Microsoft Engineer, has written...</td>\n",
       "      <td>negative</td>\n",
       "      <td>, a microsoft eha written to the ftc to warn t...</td>\n",
       "      <td>[Shane Jones, Microsoft, FTC, Microsoft CoPilo...</td>\n",
       "    </tr>\n",
       "    <tr>\n",
       "      <th>8</th>\n",
       "      <td>Microsoft</td>\n",
       "      <td>Microsoft Engineer Says Company's AI Tool Gene...</td>\n",
       "      <td>NDTV</td>\n",
       "      <td>https://www.ndtv.com/world-news/microsoft-engi...</td>\n",
       "      <td>Mr Jones claims he previously warned Microsoft...</td>\n",
       "      <td>negative</td>\n",
       "      <td>Mr claim he previous warn microg but saw no ac...</td>\n",
       "      <td>[Jones, Microsoft, Microsoft, Shane Jones, Wed...</td>\n",
       "    </tr>\n",
       "    <tr>\n",
       "      <th>9</th>\n",
       "      <td>Microsoft</td>\n",
       "      <td>Windows 10 still has more than double the mark...</td>\n",
       "      <td>Windows Central</td>\n",
       "      <td>https://www.windowscentral.com/software-apps/w...</td>\n",
       "      <td>What you need to know about Windows 11, Window...</td>\n",
       "      <td>negative</td>\n",
       "      <td>what you need to know about window , window co...</td>\n",
       "      <td>[StatCounter, 2021, Microsoft, Windows 10, Sta...</td>\n",
       "    </tr>\n",
       "  </tbody>\n",
       "</table>\n",
       "</div>"
      ],
      "text/plain": [
       "       topic                                              title  \\\n",
       "0  Microsoft         The Top 7 Tech Stocks to Buy in March 2024   \n",
       "1  Microsoft  Microsoft-owned LinkedIn makes this 'first-eve...   \n",
       "2  Microsoft          Microsoft debuts Copilot for finance pros   \n",
       "3  Microsoft  Microsoft's Path to Becoming the Largest Compa...   \n",
       "4  Microsoft  Top Analyst Brad Reback Weighs in on Microsoft...   \n",
       "5  Microsoft  Microsoft employee: AI tool should be removed ...   \n",
       "6  Microsoft  Microsoft derides 'doomsday futurology' of New...   \n",
       "7  Microsoft  Microsoft Engineer Says Company's AI Ignores C...   \n",
       "8  Microsoft  Microsoft Engineer Says Company's AI Tool Gene...   \n",
       "9  Microsoft  Windows 10 still has more than double the mark...   \n",
       "\n",
       "            source                                       article_link  \\\n",
       "0    InvestorPlace  https://investorplace.com/2024/03/the-top-7-te...   \n",
       "1   Times of India  https://timesofindia.indiatimes.com/gadgets-ne...   \n",
       "2    Computerworld  https://www.computerworld.com/article/3714142/...   \n",
       "3  The Motley Fool  https://www.fool.com/investing/2024/03/06/micr...   \n",
       "4         Tipranks  https://www.tipranks.com/news/top-analyst-brad...   \n",
       "5              CNN  https://www.cnn.com/2024/03/06/tech/microsoft-...   \n",
       "6  Financial Times  https://www.ft.com/content/1cc0c759-946c-41c8-...   \n",
       "7        PetaPixel  https://petapixel.com/2024/03/07/microsoft-eng...   \n",
       "8             NDTV  https://www.ndtv.com/world-news/microsoft-engi...   \n",
       "9  Windows Central  https://www.windowscentral.com/software-apps/w...   \n",
       "\n",
       "                                             article sentiments  \\\n",
       "0  Microsoft (MSFT) is still growing at a fast pa...   positive   \n",
       "1  Microsoft-owned LinkedIn generated $1.7 billio...   positive   \n",
       "2  Microsoft has launched a Copilot assistant for...    neutral   \n",
       "3  Microsoft's Path to Becoming the Largest Compa...   positive   \n",
       "4  Non-deal roadshows (NDRs) allow institutional ...   positive   \n",
       "5  The engineer's letter to the FTC comes as conc...   negative   \n",
       "6  Microsoft derides 'doomsday futurology' of New...   negative   \n",
       "7  Shane Jones, a Microsoft Engineer, has written...   negative   \n",
       "8  Mr Jones claims he previously warned Microsoft...   negative   \n",
       "9  What you need to know about Windows 11, Window...   negative   \n",
       "\n",
       "                                                 add  \\\n",
       "0  msft is l grow at a fast pace , and AI initiat...   \n",
       "1  own linkedin d . billion in from it pre subscr...   \n",
       "2  ha launch a copilot at for financ profession t...   \n",
       "3  's path to becom the largest compani in the wo...   \n",
       "4  nondeal roadshow ndr allow institut investor t...   \n",
       "5  the engin 's letter to the come as concern gro...   \n",
       "6  derid 'doomsday futurolog ' of new york it . t...   \n",
       "7  , a microsoft eha written to the ftc to warn t...   \n",
       "8  Mr claim he previous warn microg but saw no ac...   \n",
       "9  what you need to know about window , window co...   \n",
       "\n",
       "                                                 sub  \n",
       "0  [Microsoft, MSFT, AI, Duolingo, DUOL, Alphabet...  \n",
       "1  [Microsoft, LinkedIn, 2023, AI, LinkedIn, AI, ...  \n",
       "2  [Microsoft, Copilot, The Copilot for Finance, ...  \n",
       "3  [Microsoft, Explained, Intelligent Cloud, Saty...  \n",
       "4  [Last week, Stifel, Brad Reback, Microsoft, NA...  \n",
       "5  [FTC, AI, Microsoft, AI, Copilot Designer, 202...  \n",
       "6  [Microsoft, New York Times', Microsoft, the Ne...  \n",
       "7  [Shane Jones, Microsoft, FTC, Microsoft CoPilo...  \n",
       "8  [Jones, Microsoft, Microsoft, Shane Jones, Wed...  \n",
       "9  [StatCounter, 2021, Microsoft, Windows 10, Sta...  "
      ]
     },
     "execution_count": 22,
     "metadata": {},
     "output_type": "execute_result"
    }
   ],
   "source": [
    "test_df"
   ]
  },
  {
   "cell_type": "code",
   "execution_count": 23,
   "id": "178b7488",
   "metadata": {
    "execution": {
     "iopub.execute_input": "2024-04-10T02:00:14.781049Z",
     "iopub.status.busy": "2024-04-10T02:00:14.780770Z",
     "iopub.status.idle": "2024-04-10T02:06:00.400372Z",
     "shell.execute_reply": "2024-04-10T02:06:00.399590Z",
     "shell.execute_reply.started": "2024-04-10T02:00:14.781027Z"
    }
   },
   "outputs": [
    {
     "name": "stderr",
     "output_type": "stream",
     "text": [
      "100%|██████████| 9269/9269 [05:45<00:00, 26.82it/s]\n"
     ]
    }
   ],
   "source": [
    "from tqdm import tqdm\n",
    "tqdm.pandas()\n",
    "#df['unnamed_cleaned_articles'],df['named_entities'] = df['article'].progress_apply(preprocessing)\n",
    "df[\"unnamed_cleaned_articles\"], df[\"named_entities\"] = zip(*df['article'].progress_apply(preprocessing))"
   ]
  },
  {
   "cell_type": "code",
   "execution_count": 24,
   "id": "7917a2bf",
   "metadata": {
    "execution": {
     "iopub.execute_input": "2024-04-10T02:06:00.403098Z",
     "iopub.status.busy": "2024-04-10T02:06:00.402764Z",
     "iopub.status.idle": "2024-04-10T02:06:01.009292Z",
     "shell.execute_reply": "2024-04-10T02:06:01.008182Z",
     "shell.execute_reply.started": "2024-04-10T02:06:00.403070Z"
    }
   },
   "outputs": [],
   "source": [
    "df.to_csv('ner_cleaned_file.csv')"
   ]
  },
  {
   "cell_type": "code",
   "execution_count": 25,
   "id": "b2f4de1d",
   "metadata": {
    "execution": {
     "iopub.execute_input": "2024-04-10T02:06:01.011308Z",
     "iopub.status.busy": "2024-04-10T02:06:01.010437Z",
     "iopub.status.idle": "2024-04-10T02:06:01.033665Z",
     "shell.execute_reply": "2024-04-10T02:06:01.032330Z",
     "shell.execute_reply.started": "2024-04-10T02:06:01.011277Z"
    }
   },
   "outputs": [
    {
     "data": {
      "text/html": [
       "<div>\n",
       "<style scoped>\n",
       "    .dataframe tbody tr th:only-of-type {\n",
       "        vertical-align: middle;\n",
       "    }\n",
       "\n",
       "    .dataframe tbody tr th {\n",
       "        vertical-align: top;\n",
       "    }\n",
       "\n",
       "    .dataframe thead th {\n",
       "        text-align: right;\n",
       "    }\n",
       "</style>\n",
       "<table border=\"1\" class=\"dataframe\">\n",
       "  <thead>\n",
       "    <tr style=\"text-align: right;\">\n",
       "      <th></th>\n",
       "      <th>topic</th>\n",
       "      <th>title</th>\n",
       "      <th>source</th>\n",
       "      <th>article_link</th>\n",
       "      <th>article</th>\n",
       "      <th>sentiments</th>\n",
       "      <th>unnamed_cleaned_articles</th>\n",
       "      <th>named_entities</th>\n",
       "    </tr>\n",
       "  </thead>\n",
       "  <tbody>\n",
       "    <tr>\n",
       "      <th>0</th>\n",
       "      <td>Microsoft</td>\n",
       "      <td>The Top 7 Tech Stocks to Buy in March 2024</td>\n",
       "      <td>InvestorPlace</td>\n",
       "      <td>https://investorplace.com/2024/03/the-top-7-te...</td>\n",
       "      <td>Microsoft (MSFT) is still growing at a fast pa...</td>\n",
       "      <td>positive</td>\n",
       "      <td>msft is l grow at a fast pace , and AI initiat...</td>\n",
       "      <td>[Microsoft, MSFT, AI, Duolingo, DUOL, Alphabet...</td>\n",
       "    </tr>\n",
       "    <tr>\n",
       "      <th>1</th>\n",
       "      <td>Microsoft</td>\n",
       "      <td>Microsoft-owned LinkedIn makes this 'first-eve...</td>\n",
       "      <td>Times of India</td>\n",
       "      <td>https://timesofindia.indiatimes.com/gadgets-ne...</td>\n",
       "      <td>Microsoft-owned LinkedIn generated $1.7 billio...</td>\n",
       "      <td>positive</td>\n",
       "      <td>own linkedin d . billion in from it pre subscr...</td>\n",
       "      <td>[Microsoft, LinkedIn, 2023, AI, LinkedIn, AI, ...</td>\n",
       "    </tr>\n",
       "    <tr>\n",
       "      <th>2</th>\n",
       "      <td>Microsoft</td>\n",
       "      <td>Microsoft debuts Copilot for finance pros</td>\n",
       "      <td>Computerworld</td>\n",
       "      <td>https://www.computerworld.com/article/3714142/...</td>\n",
       "      <td>Microsoft has launched a Copilot assistant for...</td>\n",
       "      <td>neutral</td>\n",
       "      <td>ha launch a copilot at for financ profession t...</td>\n",
       "      <td>[Microsoft, Copilot, The Copilot for Finance, ...</td>\n",
       "    </tr>\n",
       "    <tr>\n",
       "      <th>3</th>\n",
       "      <td>Microsoft</td>\n",
       "      <td>Microsoft's Path to Becoming the Largest Compa...</td>\n",
       "      <td>The Motley Fool</td>\n",
       "      <td>https://www.fool.com/investing/2024/03/06/micr...</td>\n",
       "      <td>Microsoft's Path to Becoming the Largest Compa...</td>\n",
       "      <td>positive</td>\n",
       "      <td>'s path to becom the largest compani in the wo...</td>\n",
       "      <td>[Microsoft, Explained, Intelligent Cloud, Saty...</td>\n",
       "    </tr>\n",
       "    <tr>\n",
       "      <th>4</th>\n",
       "      <td>Microsoft</td>\n",
       "      <td>Top Analyst Brad Reback Weighs in on Microsoft...</td>\n",
       "      <td>Tipranks</td>\n",
       "      <td>https://www.tipranks.com/news/top-analyst-brad...</td>\n",
       "      <td>Non-deal roadshows (NDRs) allow institutional ...</td>\n",
       "      <td>positive</td>\n",
       "      <td>nondeal roadshow ndr allow institut investor t...</td>\n",
       "      <td>[Last week, Stifel, Brad Reback, Microsoft, NA...</td>\n",
       "    </tr>\n",
       "    <tr>\n",
       "      <th>...</th>\n",
       "      <td>...</td>\n",
       "      <td>...</td>\n",
       "      <td>...</td>\n",
       "      <td>...</td>\n",
       "      <td>...</td>\n",
       "      <td>...</td>\n",
       "      <td>...</td>\n",
       "      <td>...</td>\n",
       "    </tr>\n",
       "    <tr>\n",
       "      <th>9264</th>\n",
       "      <td>OCBC</td>\n",
       "      <td>7 Things To Know About Oversea-Chinese Banking...</td>\n",
       "      <td>Value Invest Asia</td>\n",
       "      <td>https://valueinvestasia.com/7-things-oversea-c...</td>\n",
       "      <td>Oversea-Chinese Banking Corp. Limited (OCBC) (...</td>\n",
       "      <td>neutral</td>\n",
       "      <td>ocbc sgx : O is one of three localist bank in ...</td>\n",
       "      <td>[Oversea-Chinese Banking Corp. Limited, OCBC, ...</td>\n",
       "    </tr>\n",
       "    <tr>\n",
       "      <th>9265</th>\n",
       "      <td>OCBC</td>\n",
       "      <td>DBS, UOB Or OCBC: Which Singapore Bank Should ...</td>\n",
       "      <td>The Smart Investor</td>\n",
       "      <td>https://thesmartinvestor.com.sg/dbs-uob-or-ocb...</td>\n",
       "      <td>The earnings season is coming to a close, and ...</td>\n",
       "      <td>positive</td>\n",
       "      <td>the earn season is come to a close , and it ha...</td>\n",
       "      <td>[last year, their fiscal 2021, year, year, yea...</td>\n",
       "    </tr>\n",
       "    <tr>\n",
       "      <th>9266</th>\n",
       "      <td>OCBC</td>\n",
       "      <td>MAS Lifts Dividend Cap on Singapore Banks: Wha...</td>\n",
       "      <td>Seedly</td>\n",
       "      <td>https://blog.seedly.sg/mas-singapore-banks-cap...</td>\n",
       "      <td>The Monetary Authority of Singapore (MAS) has ...</td>\n",
       "      <td>neutral</td>\n",
       "      <td>ma ha announc that the dividenestrict on bank ...</td>\n",
       "      <td>[The Monetary Authority of Singapore, MAS, Sin...</td>\n",
       "    </tr>\n",
       "    <tr>\n",
       "      <th>9267</th>\n",
       "      <td>OCBC</td>\n",
       "      <td>The Top 10 Most Influential Blue Chips in Sing...</td>\n",
       "      <td>The Smart Investor</td>\n",
       "      <td>https://thesmartinvestor.com.sg/the-top-10-mos...</td>\n",
       "      <td>The Straits Times Index (SGX: ^STI), or STI, i...</td>\n",
       "      <td>neutral</td>\n",
       "      <td>sgx : ^sti , or sti , is a bellweth in that co...</td>\n",
       "      <td>[The Straits Times Index, STI, Singapore, STI,...</td>\n",
       "    </tr>\n",
       "    <tr>\n",
       "      <th>9268</th>\n",
       "      <td>OCBC</td>\n",
       "      <td>DBS, OCBC and UOB: Comparison of Their Scrip D...</td>\n",
       "      <td>Seedly</td>\n",
       "      <td>https://blog.seedly.sg/dbs-ocbc-and-uob-scrip-...</td>\n",
       "      <td>The three listed banks in Singapore - DBS Grou...</td>\n",
       "      <td>neutral</td>\n",
       "      <td>the three list bank in db group , overseachine...</td>\n",
       "      <td>[Singapore, DBS Group Holdings Ltd, D05, Overs...</td>\n",
       "    </tr>\n",
       "  </tbody>\n",
       "</table>\n",
       "<p>9269 rows × 8 columns</p>\n",
       "</div>"
      ],
      "text/plain": [
       "          topic                                              title  \\\n",
       "0     Microsoft         The Top 7 Tech Stocks to Buy in March 2024   \n",
       "1     Microsoft  Microsoft-owned LinkedIn makes this 'first-eve...   \n",
       "2     Microsoft          Microsoft debuts Copilot for finance pros   \n",
       "3     Microsoft  Microsoft's Path to Becoming the Largest Compa...   \n",
       "4     Microsoft  Top Analyst Brad Reback Weighs in on Microsoft...   \n",
       "...         ...                                                ...   \n",
       "9264       OCBC  7 Things To Know About Oversea-Chinese Banking...   \n",
       "9265       OCBC  DBS, UOB Or OCBC: Which Singapore Bank Should ...   \n",
       "9266       OCBC  MAS Lifts Dividend Cap on Singapore Banks: Wha...   \n",
       "9267       OCBC  The Top 10 Most Influential Blue Chips in Sing...   \n",
       "9268       OCBC  DBS, OCBC and UOB: Comparison of Their Scrip D...   \n",
       "\n",
       "                  source                                       article_link  \\\n",
       "0          InvestorPlace  https://investorplace.com/2024/03/the-top-7-te...   \n",
       "1         Times of India  https://timesofindia.indiatimes.com/gadgets-ne...   \n",
       "2          Computerworld  https://www.computerworld.com/article/3714142/...   \n",
       "3        The Motley Fool  https://www.fool.com/investing/2024/03/06/micr...   \n",
       "4               Tipranks  https://www.tipranks.com/news/top-analyst-brad...   \n",
       "...                  ...                                                ...   \n",
       "9264   Value Invest Asia  https://valueinvestasia.com/7-things-oversea-c...   \n",
       "9265  The Smart Investor  https://thesmartinvestor.com.sg/dbs-uob-or-ocb...   \n",
       "9266              Seedly  https://blog.seedly.sg/mas-singapore-banks-cap...   \n",
       "9267  The Smart Investor  https://thesmartinvestor.com.sg/the-top-10-mos...   \n",
       "9268              Seedly  https://blog.seedly.sg/dbs-ocbc-and-uob-scrip-...   \n",
       "\n",
       "                                                article sentiments  \\\n",
       "0     Microsoft (MSFT) is still growing at a fast pa...   positive   \n",
       "1     Microsoft-owned LinkedIn generated $1.7 billio...   positive   \n",
       "2     Microsoft has launched a Copilot assistant for...    neutral   \n",
       "3     Microsoft's Path to Becoming the Largest Compa...   positive   \n",
       "4     Non-deal roadshows (NDRs) allow institutional ...   positive   \n",
       "...                                                 ...        ...   \n",
       "9264  Oversea-Chinese Banking Corp. Limited (OCBC) (...    neutral   \n",
       "9265  The earnings season is coming to a close, and ...   positive   \n",
       "9266  The Monetary Authority of Singapore (MAS) has ...    neutral   \n",
       "9267  The Straits Times Index (SGX: ^STI), or STI, i...    neutral   \n",
       "9268  The three listed banks in Singapore - DBS Grou...    neutral   \n",
       "\n",
       "                               unnamed_cleaned_articles  \\\n",
       "0     msft is l grow at a fast pace , and AI initiat...   \n",
       "1     own linkedin d . billion in from it pre subscr...   \n",
       "2     ha launch a copilot at for financ profession t...   \n",
       "3     's path to becom the largest compani in the wo...   \n",
       "4     nondeal roadshow ndr allow institut investor t...   \n",
       "...                                                 ...   \n",
       "9264  ocbc sgx : O is one of three localist bank in ...   \n",
       "9265  the earn season is come to a close , and it ha...   \n",
       "9266  ma ha announc that the dividenestrict on bank ...   \n",
       "9267  sgx : ^sti , or sti , is a bellweth in that co...   \n",
       "9268  the three list bank in db group , overseachine...   \n",
       "\n",
       "                                         named_entities  \n",
       "0     [Microsoft, MSFT, AI, Duolingo, DUOL, Alphabet...  \n",
       "1     [Microsoft, LinkedIn, 2023, AI, LinkedIn, AI, ...  \n",
       "2     [Microsoft, Copilot, The Copilot for Finance, ...  \n",
       "3     [Microsoft, Explained, Intelligent Cloud, Saty...  \n",
       "4     [Last week, Stifel, Brad Reback, Microsoft, NA...  \n",
       "...                                                 ...  \n",
       "9264  [Oversea-Chinese Banking Corp. Limited, OCBC, ...  \n",
       "9265  [last year, their fiscal 2021, year, year, yea...  \n",
       "9266  [The Monetary Authority of Singapore, MAS, Sin...  \n",
       "9267  [The Straits Times Index, STI, Singapore, STI,...  \n",
       "9268  [Singapore, DBS Group Holdings Ltd, D05, Overs...  \n",
       "\n",
       "[9269 rows x 8 columns]"
      ]
     },
     "execution_count": 25,
     "metadata": {},
     "output_type": "execute_result"
    }
   ],
   "source": [
    "df"
   ]
  },
  {
   "cell_type": "code",
   "execution_count": null,
   "id": "45a3b9b4",
   "metadata": {},
   "outputs": [],
   "source": []
  }
 ],
 "metadata": {
  "kaggle": {
   "accelerator": "none",
   "dataSources": [
    {
     "datasetId": 4723606,
     "sourceId": 8017115,
     "sourceType": "datasetVersion"
    }
   ],
   "dockerImageVersionId": 30684,
   "isGpuEnabled": false,
   "isInternetEnabled": true,
   "language": "python",
   "sourceType": "notebook"
  },
  "kernelspec": {
   "display_name": "Python 3 (ipykernel)",
   "language": "python",
   "name": "python3"
  },
  "language_info": {
   "codemirror_mode": {
    "name": "ipython",
    "version": 3
   },
   "file_extension": ".py",
   "mimetype": "text/x-python",
   "name": "python",
   "nbconvert_exporter": "python",
   "pygments_lexer": "ipython3",
   "version": "3.11.4"
  }
 },
 "nbformat": 4,
 "nbformat_minor": 5
}
